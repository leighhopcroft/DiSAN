{
 "cells": [
  {
   "cell_type": "code",
   "execution_count": 3,
   "metadata": {},
   "outputs": [],
   "source": [
    "from disan_keras_layers import DISAN\n",
    "from disan_keras import get_attn, plot_attn\n",
    "import numpy as np\n",
    "import pandas as pd\n",
    "import matplotlib.pyplot as plt\n",
    "from keras.models import Model\n",
    "from keras.layers import Input, Dense, Reshape\n",
    "from keras.optimizers import Adadelta\n",
    "from keras.callbacks import ReduceLROnPlateau, ModelCheckpoint, TensorBoard, EarlyStopping\n",
    "import pandas_datareader.data as web\n",
    "from sklearn.preprocessing import MinMaxScaler\n",
    "import os\n",
    "%matplotlib inline"
   ]
  },
  {
   "cell_type": "code",
   "execution_count": 5,
   "metadata": {},
   "outputs": [
    {
     "data": {
      "text/html": [
       "<div>\n",
       "<style scoped>\n",
       "    .dataframe tbody tr th:only-of-type {\n",
       "        vertical-align: middle;\n",
       "    }\n",
       "\n",
       "    .dataframe tbody tr th {\n",
       "        vertical-align: top;\n",
       "    }\n",
       "\n",
       "    .dataframe thead th {\n",
       "        text-align: right;\n",
       "    }\n",
       "</style>\n",
       "<table border=\"1\" class=\"dataframe\">\n",
       "  <thead>\n",
       "    <tr style=\"text-align: right;\">\n",
       "      <th></th>\n",
       "      <th>Open</th>\n",
       "      <th>High</th>\n",
       "      <th>Low</th>\n",
       "      <th>Close</th>\n",
       "      <th>Adj Close</th>\n",
       "      <th>Volume</th>\n",
       "    </tr>\n",
       "    <tr>\n",
       "      <th>Date</th>\n",
       "      <th></th>\n",
       "      <th></th>\n",
       "      <th></th>\n",
       "      <th></th>\n",
       "      <th></th>\n",
       "      <th></th>\n",
       "    </tr>\n",
       "  </thead>\n",
       "  <tbody>\n",
       "    <tr>\n",
       "      <th>2010-01-04</th>\n",
       "      <td>112.370003</td>\n",
       "      <td>113.389999</td>\n",
       "      <td>111.510002</td>\n",
       "      <td>113.330002</td>\n",
       "      <td>96.341499</td>\n",
       "      <td>118944600</td>\n",
       "    </tr>\n",
       "    <tr>\n",
       "      <th>2010-01-05</th>\n",
       "      <td>113.260002</td>\n",
       "      <td>113.680000</td>\n",
       "      <td>112.849998</td>\n",
       "      <td>113.629997</td>\n",
       "      <td>96.596519</td>\n",
       "      <td>111579900</td>\n",
       "    </tr>\n",
       "    <tr>\n",
       "      <th>2010-01-06</th>\n",
       "      <td>113.519997</td>\n",
       "      <td>113.989998</td>\n",
       "      <td>113.430000</td>\n",
       "      <td>113.709999</td>\n",
       "      <td>96.664566</td>\n",
       "      <td>116074400</td>\n",
       "    </tr>\n",
       "    <tr>\n",
       "      <th>2010-01-07</th>\n",
       "      <td>113.500000</td>\n",
       "      <td>114.330002</td>\n",
       "      <td>113.180000</td>\n",
       "      <td>114.190002</td>\n",
       "      <td>97.072586</td>\n",
       "      <td>131091100</td>\n",
       "    </tr>\n",
       "    <tr>\n",
       "      <th>2010-01-08</th>\n",
       "      <td>113.889999</td>\n",
       "      <td>114.620003</td>\n",
       "      <td>113.660004</td>\n",
       "      <td>114.570000</td>\n",
       "      <td>97.395630</td>\n",
       "      <td>126402800</td>\n",
       "    </tr>\n",
       "  </tbody>\n",
       "</table>\n",
       "</div>"
      ],
      "text/plain": [
       "                  Open        High         Low       Close  Adj Close  \\\n",
       "Date                                                                    \n",
       "2010-01-04  112.370003  113.389999  111.510002  113.330002  96.341499   \n",
       "2010-01-05  113.260002  113.680000  112.849998  113.629997  96.596519   \n",
       "2010-01-06  113.519997  113.989998  113.430000  113.709999  96.664566   \n",
       "2010-01-07  113.500000  114.330002  113.180000  114.190002  97.072586   \n",
       "2010-01-08  113.889999  114.620003  113.660004  114.570000  97.395630   \n",
       "\n",
       "               Volume  \n",
       "Date                   \n",
       "2010-01-04  118944600  \n",
       "2010-01-05  111579900  \n",
       "2010-01-06  116074400  \n",
       "2010-01-07  131091100  \n",
       "2010-01-08  126402800  "
      ]
     },
     "execution_count": 5,
     "metadata": {},
     "output_type": "execute_result"
    }
   ],
   "source": [
    "df = web.get_data_yahoo('SPY')\n",
    "df.head()"
   ]
  },
  {
   "cell_type": "code",
   "execution_count": 6,
   "metadata": {},
   "outputs": [
    {
     "data": {
      "image/png": "[encoded data removed]",
      "text/plain": [
       "<matplotlib.figure.Figure at 0x15da5940>"
      ]
     },
     "metadata": {},
     "output_type": "display_data"
    }
   ],
   "source": [
    "ts = df[['Adj Close', 'Open', 'High', 'Low']].dropna()\n",
    "ts.plot(subplots=True);"
   ]
  },
  {
   "cell_type": "code",
   "execution_count": 7,
   "metadata": {},
   "outputs": [
    {
     "name": "stdout",
     "output_type": "stream",
     "text": [
      "-0.09847840609974945 0.05095638777688283 (2058, 4)\n",
      "(1843, 10, 4) (1843,) (205, 10, 4) (205,)\n"
     ]
    }
   ],
   "source": [
    "t = 10\n",
    "train_perc = 0.9\n",
    "\n",
    "#ts_scaled = MinMaxScaler().fit_transform(ts.values.reshape(-1, 1))[:, 0]\n",
    "ts_scaled = np.diff(np.log(ts.values + 1), axis=0)\n",
    "print(ts_scaled.min(), ts_scaled.max(), ts_scaled.shape)\n",
    "\n",
    "X, y = [], []\n",
    "for i in range(len(ts_scaled)):\n",
    "    if i >= t:\n",
    "        X.append(ts_scaled[i-t:i])\n",
    "        y.append(ts_scaled[i, 0])\n",
    "        \n",
    "X, y = np.asarray(X), np.asarray(y)\n",
    "train_len = int(len(X) * train_perc)\n",
    "X_train, y_train = X[:train_len, ...], y[:train_len, ...]\n",
    "X_test, y_test = X[train_len:, ...], y[train_len:, ...]\n",
    "\n",
    "print(X_train.shape, y_train.shape, X_test.shape, y_test.shape)\n",
    "assert not np.isnan(ts_scaled).any() and not np.isnan(ts_scaled).any() and not np.isinf(ts_scaled).any() and not np.isinf(ts_scaled).any()"
   ]
  },
  {
   "cell_type": "code",
   "execution_count": 8,
   "metadata": {},
   "outputs": [
    {
     "name": "stdout",
     "output_type": "stream",
     "text": [
      "_________________________________________________________________\n",
      "Layer (type)                 Output Shape              Param #   \n",
      "=================================================================\n",
      "input_1 (InputLayer)         (None, 10, 4)             0         \n",
      "_________________________________________________________________\n",
      "disan_1 (DISAN)              (None, 128)               0         \n",
      "_________________________________________________________________\n",
      "dense_2 (Dense)              (None, 1)                 129       \n",
      "=================================================================\n",
      "Total params: 129\n",
      "Trainable params: 129\n",
      "Non-trainable params: 0\n",
      "_________________________________________________________________\n"
     ]
    }
   ],
   "source": [
    "n = 64\n",
    "\n",
    "ts_input = Input(shape=(t, 4))\n",
    "#ts_reshape = Reshape((t, 1))(ts_input)\n",
    "\n",
    "disan = DISAN(n, dropout=0.2)\n",
    "rep_2d = disan(ts_input)\n",
    "\n",
    "output = Dense(1, activation='linear')(rep_2d)\n",
    "\n",
    "model = Model(ts_input, output)\n",
    "opt = Adadelta(lr=0.5)\n",
    "model.compile(loss='mse', optimizer=opt, metrics=['mae'])\n",
    "model.summary()"
   ]
  },
  {
   "cell_type": "code",
   "execution_count": 9,
   "metadata": {},
   "outputs": [
    {
     "name": "stdout",
     "output_type": "stream",
     "text": [
      "Train on 1658 samples, validate on 185 samples\n",
      "Epoch 1/100\n",
      "1658/1658 [==============================] - 3s 2ms/step - loss: 1.0151e-04 - mean_absolute_error: 0.0071 - val_loss: 2.9743e-05 - val_mean_absolute_error: 0.0041\n",
      "Epoch 2/100\n",
      "1658/1658 [==============================] - 2s 1ms/step - loss: 1.0170e-04 - mean_absolute_error: 0.0071 - val_loss: 2.8740e-05 - val_mean_absolute_error: 0.0039\n",
      "\n",
      "Epoch 00002: ReduceLROnPlateau reducing learning rate to 0.05.\n",
      "Epoch 3/100\n",
      "1658/1658 [==============================] - 2s 1ms/step - loss: 1.0175e-04 - mean_absolute_error: 0.0071 - val_loss: 2.8653e-05 - val_mean_absolute_error: 0.0039\n",
      "\n",
      "Epoch 00003: ReduceLROnPlateau reducing learning rate to 0.005000000074505806.\n",
      "Epoch 4/100\n",
      "1658/1658 [==============================] - 2s 1ms/step - loss: 1.0119e-04 - mean_absolute_error: 0.0071 - val_loss: 2.8652e-05 - val_mean_absolute_error: 0.0039\n",
      "\n",
      "Epoch 00004: ReduceLROnPlateau reducing learning rate to 0.0004999999888241291.\n",
      "Epoch 5/100\n",
      "1658/1658 [==============================] - 2s 1ms/step - loss: 1.0206e-04 - mean_absolute_error: 0.0071 - val_loss: 2.8652e-05 - val_mean_absolute_error: 0.0039\n",
      "\n",
      "Epoch 00005: ReduceLROnPlateau reducing learning rate to 4.9999996554106475e-05.\n",
      "Epoch 6/100\n",
      "1658/1658 [==============================] - 2s 1ms/step - loss: 1.0130e-04 - mean_absolute_error: 0.0071 - val_loss: 2.8652e-05 - val_mean_absolute_error: 0.0039\n",
      "\n",
      "Epoch 00006: ReduceLROnPlateau reducing learning rate to 4.999999509891496e-06.\n",
      "Epoch 7/100\n",
      "1658/1658 [==============================] - 2s 1ms/step - loss: 1.0118e-04 - mean_absolute_error: 0.0070 - val_loss: 2.8652e-05 - val_mean_absolute_error: 0.0039\n",
      "\n",
      "Epoch 00007: ReduceLROnPlateau reducing learning rate to 4.999999418942025e-07.\n",
      "Epoch 8/100\n",
      "1658/1658 [==============================] - 2s 1ms/step - loss: 1.0166e-04 - mean_absolute_error: 0.0071 - val_loss: 2.8652e-05 - val_mean_absolute_error: 0.0039\n",
      "\n",
      "Epoch 00008: ReduceLROnPlateau reducing learning rate to 4.999999418942025e-08.\n",
      "Epoch 9/100\n",
      "1658/1658 [==============================] - 2s 1ms/step - loss: 1.0138e-04 - mean_absolute_error: 0.0071 - val_loss: 2.8652e-05 - val_mean_absolute_error: 0.0039\n",
      "\n",
      "Epoch 00009: ReduceLROnPlateau reducing learning rate to 4.999999347887752e-09.\n",
      "Epoch 10/100\n",
      "1658/1658 [==============================] - 2s 1ms/step - loss: 1.0130e-04 - mean_absolute_error: 0.0071 - val_loss: 2.8652e-05 - val_mean_absolute_error: 0.0039\n",
      "\n",
      "Epoch 00010: ReduceLROnPlateau reducing learning rate to 4.999999525523436e-10.\n",
      "Epoch 00010: early stopping\n",
      "205/205 [==============================] - 0s 1ms/step\n",
      "[4.850892582908273e-05, 0.004240086767822504]\n"
     ]
    }
   ],
   "source": [
    "filepath = 'models'\n",
    "callbacks = [\n",
    "    ReduceLROnPlateau(patience=0, verbose=1),\n",
    "    EarlyStopping(patience=3, verbose=1),\n",
    "    #ModelCheckpoint(filepath, verbose=1, save_best_only=True, save_weights_only=True),\n",
    "    #TensorBoard(os.path.join(filepath, 'logs'), histogram_freq=1)\n",
    "]\n",
    "\n",
    "model.fit(X_train, y_train, validation_split=0.1, epochs=100, verbose=1, callbacks=callbacks)\n",
    "print(model.evaluate(X_test, y_test, batch_size=len(X_test)))"
   ]
  },
  {
   "cell_type": "code",
   "execution_count": 10,
   "metadata": {},
   "outputs": [
    {
     "name": "stdout",
     "output_type": "stream",
     "text": [
      "forward_attn_full (10, 10, 64)\n",
      "forward_attn_fusion (10, 64)\n",
      "backward_attn_full (10, 10, 64)\n",
      "backward_attn_fusion (10, 64)\n",
      "multidim_attn (10, 128)\n"
     ]
    },
    {
     "data": {
      "image/png": "[encoded data removed]",
      "text/plain": [
       "<matplotlib.figure.Figure at 0x1801e780>"
      ]
     },
     "metadata": {},
     "output_type": "display_data"
    }
   ],
   "source": [
    "attn = get_attn(X_test[np.newaxis, np.random.randint(len(X_test)), ...], model, disan.attn_dict)\n",
    "for k, v in attn.items():\n",
    "    print(k, v.shape)\n",
    "\n",
    "plot_attn(attn)"
   ]
  },
  {
   "cell_type": "code",
   "execution_count": 11,
   "metadata": {},
   "outputs": [
    {
     "data": {
      "text/plain": [
       "(205,)"
      ]
     },
     "execution_count": 11,
     "metadata": {},
     "output_type": "execute_result"
    }
   ],
   "source": [
    "y_pred = model.predict(X_test)[:, 0]\n",
    "y_pred.shape"
   ]
  },
  {
   "cell_type": "code",
   "execution_count": 12,
   "metadata": {},
   "outputs": [
    {
     "data": {
      "image/png": "[encoded data removed]",
      "text/plain": [
       "<matplotlib.figure.Figure at 0x17f7dac8>"
      ]
     },
     "metadata": {},
     "output_type": "display_data"
    }
   ],
   "source": [
    "plt.scatter(y_test, y_pred);"
   ]
  },
  {
   "cell_type": "code",
   "execution_count": null,
   "metadata": {},
   "outputs": [],
   "source": []
  }
 ],
 "metadata": {
  "kernelspec": {
   "display_name": "Python 3",
   "language": "python",
   "name": "python3"
  },
  "language_info": {
   "codemirror_mode": {
    "name": "ipython",
    "version": 3
   },
   "file_extension": ".py",
   "mimetype": "text/x-python",
   "name": "python",
   "nbconvert_exporter": "python",
   "pygments_lexer": "ipython3",
   "version": "3.6.2"
  }
 },
 "nbformat": 4,
 "nbformat_minor": 2
}
